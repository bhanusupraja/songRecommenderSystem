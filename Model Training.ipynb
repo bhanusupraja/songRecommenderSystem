{
 "cells": [
  {
   "cell_type": "code",
   "execution_count": 1,
   "id": "50ac34ed",
   "metadata": {},
   "outputs": [],
   "source": [
    "import pandas as pd"
   ]
  },
  {
   "cell_type": "code",
   "execution_count": 2,
   "id": "8d218487",
   "metadata": {},
   "outputs": [],
   "source": [
    "df = pd.read_csv(\"spotify_millsongdata.csv\")"
   ]
  },
  {
   "cell_type": "code",
   "execution_count": 3,
   "id": "79919672",
   "metadata": {},
   "outputs": [
    {
     "data": {
      "text/html": [
       "<div>\n",
       "<style scoped>\n",
       "    .dataframe tbody tr th:only-of-type {\n",
       "        vertical-align: middle;\n",
       "    }\n",
       "\n",
       "    .dataframe tbody tr th {\n",
       "        vertical-align: top;\n",
       "    }\n",
       "\n",
       "    .dataframe thead th {\n",
       "        text-align: right;\n",
       "    }\n",
       "</style>\n",
       "<table border=\"1\" class=\"dataframe\">\n",
       "  <thead>\n",
       "    <tr style=\"text-align: right;\">\n",
       "      <th></th>\n",
       "      <th>artist</th>\n",
       "      <th>song</th>\n",
       "      <th>link</th>\n",
       "      <th>text</th>\n",
       "    </tr>\n",
       "  </thead>\n",
       "  <tbody>\n",
       "    <tr>\n",
       "      <th>0</th>\n",
       "      <td>ABBA</td>\n",
       "      <td>Ahe's My Kind Of Girl</td>\n",
       "      <td>/a/abba/ahes+my+kind+of+girl_20598417.html</td>\n",
       "      <td>Look at her face, it's a wonderful face  \\r\\nA...</td>\n",
       "    </tr>\n",
       "    <tr>\n",
       "      <th>1</th>\n",
       "      <td>ABBA</td>\n",
       "      <td>Andante, Andante</td>\n",
       "      <td>/a/abba/andante+andante_20002708.html</td>\n",
       "      <td>Take it easy with me, please  \\r\\nTouch me gen...</td>\n",
       "    </tr>\n",
       "    <tr>\n",
       "      <th>2</th>\n",
       "      <td>ABBA</td>\n",
       "      <td>As Good As New</td>\n",
       "      <td>/a/abba/as+good+as+new_20003033.html</td>\n",
       "      <td>I'll never know why I had to go  \\r\\nWhy I had...</td>\n",
       "    </tr>\n",
       "    <tr>\n",
       "      <th>3</th>\n",
       "      <td>ABBA</td>\n",
       "      <td>Bang</td>\n",
       "      <td>/a/abba/bang_20598415.html</td>\n",
       "      <td>Making somebody happy is a question of give an...</td>\n",
       "    </tr>\n",
       "    <tr>\n",
       "      <th>4</th>\n",
       "      <td>ABBA</td>\n",
       "      <td>Bang-A-Boomerang</td>\n",
       "      <td>/a/abba/bang+a+boomerang_20002668.html</td>\n",
       "      <td>Making somebody happy is a question of give an...</td>\n",
       "    </tr>\n",
       "  </tbody>\n",
       "</table>\n",
       "</div>"
      ],
      "text/plain": [
       "  artist                   song                                        link   \n",
       "0   ABBA  Ahe's My Kind Of Girl  /a/abba/ahes+my+kind+of+girl_20598417.html  \\\n",
       "1   ABBA       Andante, Andante       /a/abba/andante+andante_20002708.html   \n",
       "2   ABBA         As Good As New        /a/abba/as+good+as+new_20003033.html   \n",
       "3   ABBA                   Bang                  /a/abba/bang_20598415.html   \n",
       "4   ABBA       Bang-A-Boomerang      /a/abba/bang+a+boomerang_20002668.html   \n",
       "\n",
       "                                                text  \n",
       "0  Look at her face, it's a wonderful face  \\r\\nA...  \n",
       "1  Take it easy with me, please  \\r\\nTouch me gen...  \n",
       "2  I'll never know why I had to go  \\r\\nWhy I had...  \n",
       "3  Making somebody happy is a question of give an...  \n",
       "4  Making somebody happy is a question of give an...  "
      ]
     },
     "execution_count": 3,
     "metadata": {},
     "output_type": "execute_result"
    }
   ],
   "source": [
    "df.head(5)"
   ]
  },
  {
   "cell_type": "code",
   "execution_count": 4,
   "id": "b61c723f",
   "metadata": {},
   "outputs": [
    {
     "data": {
      "text/html": [
       "<div>\n",
       "<style scoped>\n",
       "    .dataframe tbody tr th:only-of-type {\n",
       "        vertical-align: middle;\n",
       "    }\n",
       "\n",
       "    .dataframe tbody tr th {\n",
       "        vertical-align: top;\n",
       "    }\n",
       "\n",
       "    .dataframe thead th {\n",
       "        text-align: right;\n",
       "    }\n",
       "</style>\n",
       "<table border=\"1\" class=\"dataframe\">\n",
       "  <thead>\n",
       "    <tr style=\"text-align: right;\">\n",
       "      <th></th>\n",
       "      <th>artist</th>\n",
       "      <th>song</th>\n",
       "      <th>link</th>\n",
       "      <th>text</th>\n",
       "    </tr>\n",
       "  </thead>\n",
       "  <tbody>\n",
       "    <tr>\n",
       "      <th>57645</th>\n",
       "      <td>Ziggy Marley</td>\n",
       "      <td>Good Old Days</td>\n",
       "      <td>/z/ziggy+marley/good+old+days_10198588.html</td>\n",
       "      <td>Irie days come on play  \\r\\nLet the angels fly...</td>\n",
       "    </tr>\n",
       "    <tr>\n",
       "      <th>57646</th>\n",
       "      <td>Ziggy Marley</td>\n",
       "      <td>Hand To Mouth</td>\n",
       "      <td>/z/ziggy+marley/hand+to+mouth_20531167.html</td>\n",
       "      <td>Power to the workers  \\r\\nMore power  \\r\\nPowe...</td>\n",
       "    </tr>\n",
       "    <tr>\n",
       "      <th>57647</th>\n",
       "      <td>Zwan</td>\n",
       "      <td>Come With Me</td>\n",
       "      <td>/z/zwan/come+with+me_20148981.html</td>\n",
       "      <td>all you need  \\r\\nis something i'll believe  \\...</td>\n",
       "    </tr>\n",
       "    <tr>\n",
       "      <th>57648</th>\n",
       "      <td>Zwan</td>\n",
       "      <td>Desire</td>\n",
       "      <td>/z/zwan/desire_20148986.html</td>\n",
       "      <td>northern star  \\r\\nam i frightened  \\r\\nwhere ...</td>\n",
       "    </tr>\n",
       "    <tr>\n",
       "      <th>57649</th>\n",
       "      <td>Zwan</td>\n",
       "      <td>Heartsong</td>\n",
       "      <td>/z/zwan/heartsong_20148991.html</td>\n",
       "      <td>come in  \\r\\nmake yourself at home  \\r\\ni'm a ...</td>\n",
       "    </tr>\n",
       "  </tbody>\n",
       "</table>\n",
       "</div>"
      ],
      "text/plain": [
       "             artist           song   \n",
       "57645  Ziggy Marley  Good Old Days  \\\n",
       "57646  Ziggy Marley  Hand To Mouth   \n",
       "57647          Zwan   Come With Me   \n",
       "57648          Zwan         Desire   \n",
       "57649          Zwan      Heartsong   \n",
       "\n",
       "                                              link   \n",
       "57645  /z/ziggy+marley/good+old+days_10198588.html  \\\n",
       "57646  /z/ziggy+marley/hand+to+mouth_20531167.html   \n",
       "57647           /z/zwan/come+with+me_20148981.html   \n",
       "57648                 /z/zwan/desire_20148986.html   \n",
       "57649              /z/zwan/heartsong_20148991.html   \n",
       "\n",
       "                                                    text  \n",
       "57645  Irie days come on play  \\r\\nLet the angels fly...  \n",
       "57646  Power to the workers  \\r\\nMore power  \\r\\nPowe...  \n",
       "57647  all you need  \\r\\nis something i'll believe  \\...  \n",
       "57648  northern star  \\r\\nam i frightened  \\r\\nwhere ...  \n",
       "57649  come in  \\r\\nmake yourself at home  \\r\\ni'm a ...  "
      ]
     },
     "execution_count": 4,
     "metadata": {},
     "output_type": "execute_result"
    }
   ],
   "source": [
    "df.tail(5)"
   ]
  },
  {
   "cell_type": "code",
   "execution_count": 5,
   "id": "d7d8fa2a",
   "metadata": {},
   "outputs": [
    {
     "data": {
      "text/plain": [
       "(57650, 4)"
      ]
     },
     "execution_count": 5,
     "metadata": {},
     "output_type": "execute_result"
    }
   ],
   "source": [
    "df.shape"
   ]
  },
  {
   "cell_type": "code",
   "execution_count": 6,
   "id": "a8fdecf9",
   "metadata": {},
   "outputs": [
    {
     "data": {
      "text/plain": [
       "artist    0\n",
       "song      0\n",
       "link      0\n",
       "text      0\n",
       "dtype: int64"
      ]
     },
     "execution_count": 6,
     "metadata": {},
     "output_type": "execute_result"
    }
   ],
   "source": [
    "df.isnull().sum()"
   ]
  },
  {
   "cell_type": "code",
   "execution_count": 7,
   "id": "dde3d24b",
   "metadata": {},
   "outputs": [],
   "source": [
    "df =df.sample(5000).drop('link', axis=1).reset_index(drop=True)"
   ]
  },
  {
   "cell_type": "code",
   "execution_count": 8,
   "id": "cf5ff69f",
   "metadata": {},
   "outputs": [
    {
     "data": {
      "text/html": [
       "<div>\n",
       "<style scoped>\n",
       "    .dataframe tbody tr th:only-of-type {\n",
       "        vertical-align: middle;\n",
       "    }\n",
       "\n",
       "    .dataframe tbody tr th {\n",
       "        vertical-align: top;\n",
       "    }\n",
       "\n",
       "    .dataframe thead th {\n",
       "        text-align: right;\n",
       "    }\n",
       "</style>\n",
       "<table border=\"1\" class=\"dataframe\">\n",
       "  <thead>\n",
       "    <tr style=\"text-align: right;\">\n",
       "      <th></th>\n",
       "      <th>artist</th>\n",
       "      <th>song</th>\n",
       "      <th>text</th>\n",
       "    </tr>\n",
       "  </thead>\n",
       "  <tbody>\n",
       "    <tr>\n",
       "      <th>0</th>\n",
       "      <td>Lady Gaga</td>\n",
       "      <td>Optimist</td>\n",
       "      <td>It's over!,  \\r\\nIt's over!.  \\r\\n  \\r\\nYou're...</td>\n",
       "    </tr>\n",
       "    <tr>\n",
       "      <th>1</th>\n",
       "      <td>Dan Fogelberg</td>\n",
       "      <td>Below The Surface</td>\n",
       "      <td>Some people tell you  \\r\\nThey're trapped in t...</td>\n",
       "    </tr>\n",
       "    <tr>\n",
       "      <th>2</th>\n",
       "      <td>Air Supply</td>\n",
       "      <td>More Than Natural</td>\n",
       "      <td>Love I'll help you to see  \\r\\nThe world is ou...</td>\n",
       "    </tr>\n",
       "    <tr>\n",
       "      <th>3</th>\n",
       "      <td>Incognito</td>\n",
       "      <td>A Shade Of Blue</td>\n",
       "      <td>A lifetime waiting for the light to shine  \\r\\...</td>\n",
       "    </tr>\n",
       "    <tr>\n",
       "      <th>4</th>\n",
       "      <td>Reo Speedwagon</td>\n",
       "      <td>I Want To Know What Love Is</td>\n",
       "      <td>I gotta take a little time  \\r\\nA little time ...</td>\n",
       "    </tr>\n",
       "    <tr>\n",
       "      <th>5</th>\n",
       "      <td>Nazareth</td>\n",
       "      <td>If You See My Baby</td>\n",
       "      <td>If you see my baby  \\r\\nWith another man  \\r\\n...</td>\n",
       "    </tr>\n",
       "    <tr>\n",
       "      <th>6</th>\n",
       "      <td>Norah Jones</td>\n",
       "      <td>Wurlitzer Prize (I Don't Want To Get Over You)</td>\n",
       "      <td>Don't want to get over you  \\r\\nI'm not here t...</td>\n",
       "    </tr>\n",
       "    <tr>\n",
       "      <th>7</th>\n",
       "      <td>Incubus</td>\n",
       "      <td>Massacre Of The Unborn</td>\n",
       "      <td>No survive  \\r\\nUnborn child  \\r\\nCut to piece...</td>\n",
       "    </tr>\n",
       "    <tr>\n",
       "      <th>8</th>\n",
       "      <td>Adele</td>\n",
       "      <td>Turning Tables</td>\n",
       "      <td>Close enough to start a war  \\r\\nAll that I ha...</td>\n",
       "    </tr>\n",
       "    <tr>\n",
       "      <th>9</th>\n",
       "      <td>Roxy Music</td>\n",
       "      <td>If It Takes All Night</td>\n",
       "      <td>Oh here it comes again  \\r\\nThat old ennui  \\r...</td>\n",
       "    </tr>\n",
       "  </tbody>\n",
       "</table>\n",
       "</div>"
      ],
      "text/plain": [
       "           artist                                            song   \n",
       "0       Lady Gaga                                        Optimist  \\\n",
       "1   Dan Fogelberg                               Below The Surface   \n",
       "2      Air Supply                               More Than Natural   \n",
       "3       Incognito                                 A Shade Of Blue   \n",
       "4  Reo Speedwagon                     I Want To Know What Love Is   \n",
       "5        Nazareth                              If You See My Baby   \n",
       "6     Norah Jones  Wurlitzer Prize (I Don't Want To Get Over You)   \n",
       "7         Incubus                          Massacre Of The Unborn   \n",
       "8           Adele                                  Turning Tables   \n",
       "9      Roxy Music                           If It Takes All Night   \n",
       "\n",
       "                                                text  \n",
       "0  It's over!,  \\r\\nIt's over!.  \\r\\n  \\r\\nYou're...  \n",
       "1  Some people tell you  \\r\\nThey're trapped in t...  \n",
       "2  Love I'll help you to see  \\r\\nThe world is ou...  \n",
       "3  A lifetime waiting for the light to shine  \\r\\...  \n",
       "4  I gotta take a little time  \\r\\nA little time ...  \n",
       "5  If you see my baby  \\r\\nWith another man  \\r\\n...  \n",
       "6  Don't want to get over you  \\r\\nI'm not here t...  \n",
       "7  No survive  \\r\\nUnborn child  \\r\\nCut to piece...  \n",
       "8  Close enough to start a war  \\r\\nAll that I ha...  \n",
       "9  Oh here it comes again  \\r\\nThat old ennui  \\r...  "
      ]
     },
     "execution_count": 8,
     "metadata": {},
     "output_type": "execute_result"
    }
   ],
   "source": [
    "df.head(10)"
   ]
  },
  {
   "cell_type": "code",
   "execution_count": 9,
   "id": "26eb5b1c",
   "metadata": {},
   "outputs": [
    {
     "data": {
      "text/plain": [
       "\"It's over!,  \\r\\nIt's over!.  \\r\\n  \\r\\nYou're like the definition of negative  \\r\\nAlways complainin, you're such a pessimist  \\r\\nYour Cup is half empty  \\r\\nI'm just so sick of it  \\r\\nI got a different perspective  \\r\\n  \\r\\nMy Cup is half full  \\r\\nMy Sky is never gray  \\r\\nYou can't bring be down anymore baby  \\r\\nMy future is bright  \\r\\nCan't wait to face the day  \\r\\nThere's one thing you should know about me  \\r\\n  \\r\\nI'm an optimist  \\r\\nI'm so positive  \\r\\nThat you'll never get another chance with me baby  \\r\\nI'm an optimist  \\r\\nI'm so positive  \\r\\nThat your chances blown, boy you're gone, spread your negativity.  \\r\\n  \\r\\n(I'm an optimist, op-optimist, op-optimist)  \\r\\n  \\r\\nYou're such a downer, You're never satisfied  \\r\\nLucky for me, there's always a silver line  \\r\\nOn the horizon, so boy don't even try  \\r\\nInjectin me with your negative vibes  \\r\\n  \\r\\nMy cup is half full  \\r\\nMy sky is never gray  \\r\\nYou can't bring be down anymore baby  \\r\\nMy future is bright  \\r\\nCan't wait to face the day  \\r\\nThere's one thing you should know about me  \\r\\n  \\r\\nI'm an optimist  \\r\\nI'm so positive  \\r\\nThat you'll never get another chance with me baby  \\r\\nI'm an optimist  \\r\\nI'm so positive  \\r\\nThat your chances blown, boy you're gone, spread your negativity.  \\r\\n  \\r\\nI'm an optimist.  \\r\\nI'm spontaneous.  \\r\\nI need fun and excitement, ready set.  \\r\\nHere I come, Take the world by storm.  \\r\\nGrab life by the horns, While I'm still young.  \\r\\nAnd If you wanna act old, If you wanna be cold.  \\r\\nHmmm, I guess but baby you should know oh, oh, oh, oh  \\r\\n  \\r\\nI'm an optimist  \\r\\nI'm so positive  \\r\\nThat you'll never get another chance with me baby  \\r\\nI'm an optimist  \\r\\nI'm so positive  \\r\\nThat your chances blown, boy you're gone, spread your negativity.  \\r\\n  \\r\\nI'm an optimist, op-optimist, op-optimist x3  \\r\\nI'm a I'm a-a-I'm-a-I'm an optimist  \\r\\n  \\r\\nI'm an optimist  \\r\\nI'm so positive  \\r\\nThat you'll never get another chance with me baby  \\r\\nI'm an optimist  \\r\\nI'm so positive  \\r\\nThat your chances blown, boy you're gone, spread your negativity.  \\r\\n  \\r\\nI'm an optimist, op-optimist, op-optimist x3  \\r\\nI'm a I'm a-a-I'm-a-I'm an optimist\\r\\n\\r\\n\""
      ]
     },
     "execution_count": 9,
     "metadata": {},
     "output_type": "execute_result"
    }
   ],
   "source": [
    "df['text'][0]"
   ]
  },
  {
   "cell_type": "code",
   "execution_count": 10,
   "id": "dc76d0f4",
   "metadata": {},
   "outputs": [],
   "source": [
    "# df = df.sample(5000)"
   ]
  },
  {
   "cell_type": "code",
   "execution_count": 11,
   "id": "4a0c4186",
   "metadata": {},
   "outputs": [
    {
     "data": {
      "text/plain": [
       "(5000, 3)"
      ]
     },
     "execution_count": 11,
     "metadata": {},
     "output_type": "execute_result"
    }
   ],
   "source": [
    "df.shape"
   ]
  },
  {
   "cell_type": "markdown",
   "id": "865afecc",
   "metadata": {},
   "source": [
    "Text Cleaning/ Text Preprocessing"
   ]
  },
  {
   "cell_type": "code",
   "execution_count": 14,
   "id": "b2359525",
   "metadata": {},
   "outputs": [
    {
     "data": {
      "text/plain": [
       "0       it's over!,  \\r it's over!.  \\r   \\r you're li...\n",
       "1       some people tell you  \\r they're trapped in th...\n",
       "2       love i'll help you to see  \\r the world is our...\n",
       "3       a lifetime waiting for the light to shine  \\r ...\n",
       "4       i gotta take a little time  \\r a little time t...\n",
       "                              ...                        \n",
       "4995    there's a time for all our innocence  \\r when ...\n",
       "4996    when i am down and, oh my soul, so weary  \\r w...\n",
       "4997    body  \\r body  \\r   \\r touched by the toil and...\n",
       "4998    when i find myself in times of trouble, mother...\n",
       "4999    written by james young  \\r lead vocals by jame...\n",
       "Name: text, Length: 5000, dtype: object"
      ]
     },
     "execution_count": 14,
     "metadata": {},
     "output_type": "execute_result"
    }
   ],
   "source": [
    " df['text'] =df['text'].str.lower().replace(r'^\\w\\s', ' ').replace(r'\\n', ' ', regex = True)"
   ]
  },
  {
   "cell_type": "code",
   "execution_count": 16,
   "id": "99ea4438-beb7-4438-b7b2-a7a27d286364",
   "metadata": {},
   "outputs": [
    {
     "data": {
      "text/html": [
       "<div>\n",
       "<style scoped>\n",
       "    .dataframe tbody tr th:only-of-type {\n",
       "        vertical-align: middle;\n",
       "    }\n",
       "\n",
       "    .dataframe tbody tr th {\n",
       "        vertical-align: top;\n",
       "    }\n",
       "\n",
       "    .dataframe thead th {\n",
       "        text-align: right;\n",
       "    }\n",
       "</style>\n",
       "<table border=\"1\" class=\"dataframe\">\n",
       "  <thead>\n",
       "    <tr style=\"text-align: right;\">\n",
       "      <th></th>\n",
       "      <th>artist</th>\n",
       "      <th>song</th>\n",
       "      <th>text</th>\n",
       "    </tr>\n",
       "  </thead>\n",
       "  <tbody>\n",
       "    <tr>\n",
       "      <th>4995</th>\n",
       "      <td>Yngwie Malmsteen</td>\n",
       "      <td>Cry No More</td>\n",
       "      <td>there's a time for all our innocence  \\r when ...</td>\n",
       "    </tr>\n",
       "    <tr>\n",
       "      <th>4996</th>\n",
       "      <td>Selah</td>\n",
       "      <td>You Raise Me Up</td>\n",
       "      <td>when i am down and, oh my soul, so weary  \\r w...</td>\n",
       "    </tr>\n",
       "    <tr>\n",
       "      <th>4997</th>\n",
       "      <td>Alice Cooper</td>\n",
       "      <td>Black Juju</td>\n",
       "      <td>body  \\r body  \\r   \\r touched by the toil and...</td>\n",
       "    </tr>\n",
       "    <tr>\n",
       "      <th>4998</th>\n",
       "      <td>The Beatles</td>\n",
       "      <td>Let It Be</td>\n",
       "      <td>when i find myself in times of trouble, mother...</td>\n",
       "    </tr>\n",
       "    <tr>\n",
       "      <th>4999</th>\n",
       "      <td>Styx</td>\n",
       "      <td>Double Life</td>\n",
       "      <td>written by james young  \\r lead vocals by jame...</td>\n",
       "    </tr>\n",
       "  </tbody>\n",
       "</table>\n",
       "</div>"
      ],
      "text/plain": [
       "                artist             song   \n",
       "4995  Yngwie Malmsteen      Cry No More  \\\n",
       "4996             Selah  You Raise Me Up   \n",
       "4997      Alice Cooper       Black Juju   \n",
       "4998       The Beatles        Let It Be   \n",
       "4999              Styx      Double Life   \n",
       "\n",
       "                                                   text  \n",
       "4995  there's a time for all our innocence  \\r when ...  \n",
       "4996  when i am down and, oh my soul, so weary  \\r w...  \n",
       "4997  body  \\r body  \\r   \\r touched by the toil and...  \n",
       "4998  when i find myself in times of trouble, mother...  \n",
       "4999  written by james young  \\r lead vocals by jame...  "
      ]
     },
     "execution_count": 16,
     "metadata": {},
     "output_type": "execute_result"
    }
   ],
   "source": [
    "df.tail(5)"
   ]
  },
  {
   "cell_type": "code",
   "execution_count": 13,
   "id": "65cb3a7f-5bc3-4b1c-b863-4d13ff7c76fb",
   "metadata": {},
   "outputs": [
    {
     "data": {
      "text/plain": [
       "\"it's over!,  \\r it's over!.  \\r   \\r you're like the definition of negative  \\r always complainin, you're such a pessimist  \\r your cup is half empty  \\r i'm just so sick of it  \\r i got a different perspective  \\r   \\r my cup is half full  \\r my sky is never gray  \\r you can't bring be down anymore baby  \\r my future is bright  \\r can't wait to face the day  \\r there's one thing you should know about me  \\r   \\r i'm an optimist  \\r i'm so positive  \\r that you'll never get another chance with me baby  \\r i'm an optimist  \\r i'm so positive  \\r that your chances blown, boy you're gone, spread your negativity.  \\r   \\r (i'm an optimist, op-optimist, op-optimist)  \\r   \\r you're such a downer, you're never satisfied  \\r lucky for me, there's always a silver line  \\r on the horizon, so boy don't even try  \\r injectin me with your negative vibes  \\r   \\r my cup is half full  \\r my sky is never gray  \\r you can't bring be down anymore baby  \\r my future is bright  \\r can't wait to face the day  \\r there's one thing you should know about me  \\r   \\r i'm an optimist  \\r i'm so positive  \\r that you'll never get another chance with me baby  \\r i'm an optimist  \\r i'm so positive  \\r that your chances blown, boy you're gone, spread your negativity.  \\r   \\r i'm an optimist.  \\r i'm spontaneous.  \\r i need fun and excitement, ready set.  \\r here i come, take the world by storm.  \\r grab life by the horns, while i'm still young.  \\r and if you wanna act old, if you wanna be cold.  \\r hmmm, i guess but baby you should know oh, oh, oh, oh  \\r   \\r i'm an optimist  \\r i'm so positive  \\r that you'll never get another chance with me baby  \\r i'm an optimist  \\r i'm so positive  \\r that your chances blown, boy you're gone, spread your negativity.  \\r   \\r i'm an optimist, op-optimist, op-optimist x3  \\r i'm a i'm a-a-i'm-a-i'm an optimist  \\r   \\r i'm an optimist  \\r i'm so positive  \\r that you'll never get another chance with me baby  \\r i'm an optimist  \\r i'm so positive  \\r that your chances blown, boy you're gone, spread your negativity.  \\r   \\r i'm an optimist, op-optimist, op-optimist x3  \\r i'm a i'm a-a-i'm-a-i'm an optimist\\r \\r \""
      ]
     },
     "execution_count": 13,
     "metadata": {},
     "output_type": "execute_result"
    }
   ],
   "source": [
    "df['text'][0]"
   ]
  },
  {
   "cell_type": "code",
   "execution_count": 28,
   "id": "cc0c39b1-29d1-4e8d-8290-69f5c0044798",
   "metadata": {},
   "outputs": [
    {
     "name": "stderr",
     "output_type": "stream",
     "text": [
      "[nltk_data] Downloading package punkt to\n",
      "[nltk_data]     C:\\Users\\dbhan\\AppData\\Roaming\\nltk_data...\n",
      "[nltk_data]   Unzipping tokenizers\\punkt.zip.\n"
     ]
    },
    {
     "data": {
      "text/plain": [
       "True"
      ]
     },
     "execution_count": 28,
     "metadata": {},
     "output_type": "execute_result"
    }
   ],
   "source": [
    "import nltk\n",
    "\n",
    "# Download the 'punkt' resource\n",
    "nltk.download('punkt')\n"
   ]
  },
  {
   "cell_type": "code",
   "execution_count": 30,
   "id": "dc55deb2-bfe0-4519-a6d4-dbaffb09be99",
   "metadata": {},
   "outputs": [],
   "source": [
    "import nltk\n",
    "from nltk.stem.porter import PorterStemmer"
   ]
  },
  {
   "cell_type": "code",
   "execution_count": 31,
   "id": "ddba824c-b36c-4109-8fb5-4d5812d60d6f",
   "metadata": {},
   "outputs": [],
   "source": [
    "stemmer = PorterStemmer()"
   ]
  },
  {
   "cell_type": "code",
   "execution_count": 34,
   "id": "7e78451e",
   "metadata": {},
   "outputs": [],
   "source": [
    "def token(txt):\n",
    "    token = nltk.word_tokenize(txt)\n",
    "    a = [stemmer.stem(w) for w in token]\n",
    "    return \" \".join(a)"
   ]
  },
  {
   "cell_type": "code",
   "execution_count": 36,
   "id": "ed388711-9524-4ac9-8928-4c844bd74950",
   "metadata": {},
   "outputs": [
    {
     "name": "stdout",
     "output_type": "stream",
     "text": [
      "you are beauti , beauti\n"
     ]
    }
   ],
   "source": [
    "text = \"you are beautiful, beauty\"\n",
    "result = token(text)\n",
    "print(result)"
   ]
  },
  {
   "cell_type": "code",
   "execution_count": 37,
   "id": "95fc3be2",
   "metadata": {},
   "outputs": [],
   "source": [
    "from sklearn.feature_extraction.text import TfidfVectorizer\n",
    "from sklearn.metrics.pairwise import cosine_similarity"
   ]
  },
  {
   "cell_type": "code",
   "execution_count": 42,
   "id": "463c23b5-65ce-4ab8-960f-560b2cc21e65",
   "metadata": {},
   "outputs": [
    {
     "data": {
      "text/plain": [
       "0       it 's over ! , it 's over ! . you 're like the...\n",
       "1       some peopl tell you they 're trap in the dista...\n",
       "2       love i 'll help you to see the world is our it...\n",
       "3       a lifetim wait for the light to shine suddenli...\n",
       "4       i got ta take a littl time a littl time to thi...\n",
       "                              ...                        \n",
       "4995    there 's a time for all our innoc when the tea...\n",
       "4996    when i am down and , oh my soul , so weari whe...\n",
       "4997    bodi bodi touch by the toil and plung into hi ...\n",
       "4998    when i find myself in time of troubl , mother ...\n",
       "4999    written by jame young lead vocal by jame young...\n",
       "Name: text, Length: 5000, dtype: object"
      ]
     },
     "execution_count": 42,
     "metadata": {},
     "output_type": "execute_result"
    }
   ],
   "source": [
    "df['text'].apply(lambda x: token(x))"
   ]
  },
  {
   "cell_type": "code",
   "execution_count": 39,
   "id": "f5c1ece2",
   "metadata": {},
   "outputs": [],
   "source": [
    "df['text'] = df['text'].apply(lambda x: token(x))"
   ]
  },
  {
   "cell_type": "code",
   "execution_count": 43,
   "id": "f4945e8f",
   "metadata": {},
   "outputs": [],
   "source": [
    "tfidvector = TfidfVectorizer(analyzer='word',stop_words='english')\n",
    "matrix = tfidvector.fit_transform(df['text'])\n",
    "similarity = cosine_similarity(matrix)"
   ]
  },
  {
   "cell_type": "code",
   "execution_count": 44,
   "id": "594a9761-d4e1-4b52-a60c-05cd5d05714e",
   "metadata": {},
   "outputs": [
    {
     "data": {
      "text/plain": [
       "<5000x17514 sparse matrix of type '<class 'numpy.float64'>'\n",
       "\twith 276080 stored elements in Compressed Sparse Row format>"
      ]
     },
     "execution_count": 44,
     "metadata": {},
     "output_type": "execute_result"
    }
   ],
   "source": [
    "matrix"
   ]
  },
  {
   "cell_type": "code",
   "execution_count": 45,
   "id": "ba534888-fb83-4bf6-bb85-52d361fb5bb6",
   "metadata": {},
   "outputs": [
    {
     "data": {
      "text/plain": [
       "array([[1.        , 0.01767   , 0.02272783, ..., 0.00544365, 0.00691377,\n",
       "        0.01718178],\n",
       "       [0.01767   , 1.        , 0.07329946, ..., 0.05249932, 0.00603188,\n",
       "        0.03400172],\n",
       "       [0.02272783, 0.07329946, 1.        , ..., 0.00485172, 0.08138741,\n",
       "        0.03062132],\n",
       "       ...,\n",
       "       [0.00544365, 0.05249932, 0.00485172, ..., 1.        , 0.01424187,\n",
       "        0.01099163],\n",
       "       [0.00691377, 0.00603188, 0.08138741, ..., 0.01424187, 1.        ,\n",
       "        0.00807258],\n",
       "       [0.01718178, 0.03400172, 0.03062132, ..., 0.01099163, 0.00807258,\n",
       "        1.        ]])"
      ]
     },
     "execution_count": 45,
     "metadata": {},
     "output_type": "execute_result"
    }
   ],
   "source": [
    "cosine_similarity(matrix)"
   ]
  },
  {
   "cell_type": "code",
   "execution_count": 46,
   "id": "c1794772",
   "metadata": {},
   "outputs": [
    {
     "data": {
      "text/plain": [
       "array([1.        , 0.01767   , 0.02272783, ..., 0.00544365, 0.00691377,\n",
       "       0.01718178])"
      ]
     },
     "execution_count": 46,
     "metadata": {},
     "output_type": "execute_result"
    }
   ],
   "source": [
    "similarity[0]"
   ]
  },
  {
   "cell_type": "code",
   "execution_count": 67,
   "id": "720500e9-0f0c-4fb9-8f0c-ad0acf3c4ab2",
   "metadata": {},
   "outputs": [
    {
     "data": {
      "text/html": [
       "<div>\n",
       "<style scoped>\n",
       "    .dataframe tbody tr th:only-of-type {\n",
       "        vertical-align: middle;\n",
       "    }\n",
       "\n",
       "    .dataframe tbody tr th {\n",
       "        vertical-align: top;\n",
       "    }\n",
       "\n",
       "    .dataframe thead th {\n",
       "        text-align: right;\n",
       "    }\n",
       "</style>\n",
       "<table border=\"1\" class=\"dataframe\">\n",
       "  <thead>\n",
       "    <tr style=\"text-align: right;\">\n",
       "      <th></th>\n",
       "      <th>artist</th>\n",
       "      <th>song</th>\n",
       "      <th>text</th>\n",
       "    </tr>\n",
       "  </thead>\n",
       "  <tbody>\n",
       "    <tr>\n",
       "      <th>0</th>\n",
       "      <td>Lady Gaga</td>\n",
       "      <td>Optimist</td>\n",
       "      <td>it 's over ! , it 's over ! . you 're like the...</td>\n",
       "    </tr>\n",
       "    <tr>\n",
       "      <th>1</th>\n",
       "      <td>Dan Fogelberg</td>\n",
       "      <td>Below The Surface</td>\n",
       "      <td>some peopl tell you they 're trap in the dista...</td>\n",
       "    </tr>\n",
       "    <tr>\n",
       "      <th>2</th>\n",
       "      <td>Air Supply</td>\n",
       "      <td>More Than Natural</td>\n",
       "      <td>love i 'll help you to see the world is our it...</td>\n",
       "    </tr>\n",
       "    <tr>\n",
       "      <th>3</th>\n",
       "      <td>Incognito</td>\n",
       "      <td>A Shade Of Blue</td>\n",
       "      <td>a lifetim wait for the light to shine suddenli...</td>\n",
       "    </tr>\n",
       "    <tr>\n",
       "      <th>4</th>\n",
       "      <td>Reo Speedwagon</td>\n",
       "      <td>I Want To Know What Love Is</td>\n",
       "      <td>i got ta take a littl time a littl time to thi...</td>\n",
       "    </tr>\n",
       "  </tbody>\n",
       "</table>\n",
       "</div>"
      ],
      "text/plain": [
       "           artist                         song   \n",
       "0       Lady Gaga                     Optimist  \\\n",
       "1   Dan Fogelberg            Below The Surface   \n",
       "2      Air Supply            More Than Natural   \n",
       "3       Incognito              A Shade Of Blue   \n",
       "4  Reo Speedwagon  I Want To Know What Love Is   \n",
       "\n",
       "                                                text  \n",
       "0  it 's over ! , it 's over ! . you 're like the...  \n",
       "1  some peopl tell you they 're trap in the dista...  \n",
       "2  love i 'll help you to see the world is our it...  \n",
       "3  a lifetim wait for the light to shine suddenli...  \n",
       "4  i got ta take a littl time a littl time to thi...  "
      ]
     },
     "execution_count": 67,
     "metadata": {},
     "output_type": "execute_result"
    }
   ],
   "source": [
    "df.head(5)"
   ]
  },
  {
   "cell_type": "code",
   "execution_count": 50,
   "id": "a6221770",
   "metadata": {},
   "outputs": [
    {
     "data": {
      "text/plain": [
       "4995"
      ]
     },
     "execution_count": 50,
     "metadata": {},
     "output_type": "execute_result"
    }
   ],
   "source": [
    "df[df['song'] == 'Cry No More'].index[0]"
   ]
  },
  {
   "cell_type": "markdown",
   "id": "a4afaca8-e588-4053-8de1-7ac7ac6fabb9",
   "metadata": {},
   "source": [
    "Recommender function"
   ]
  },
  {
   "cell_type": "code",
   "execution_count": 69,
   "id": "5aaa2361",
   "metadata": {},
   "outputs": [],
   "source": [
    "def recommendation(song_df):\n",
    "    idx = df[df['song'] == song_df].index[0]\n",
    "    distances = sorted(list(enumerate(similarity[idx])),reverse=True,key=lambda x:x[1])\n",
    "    song = []\n",
    "    for m_id in distances[1:21]:\n",
    "        song.append(df.iloc[m_id[0]].song)\n",
    "        \n",
    "    return song"
   ]
  },
  {
   "cell_type": "code",
   "execution_count": 70,
   "id": "216c25bb",
   "metadata": {},
   "outputs": [
    {
     "data": {
      "text/plain": [
       "['Cry, Cry, Cry',\n",
       " 'Cry',\n",
       " 'I Cry',\n",
       " 'Crying',\n",
       " \"It's All Over But The Crying\",\n",
       " 'Not A Second Time',\n",
       " 'Cry Me A River',\n",
       " 'Everyday I Have To Cry',\n",
       " \"Don't Cry Baby\",\n",
       " 'I Am Going',\n",
       " 'Sad Movies',\n",
       " 'Fool',\n",
       " 'No Woman',\n",
       " \"I'm Gonna Break Your Heart\",\n",
       " \"I've Got A Right To Cry\",\n",
       " 'Devil May Cry',\n",
       " 'Cry Like A Man',\n",
       " \"Don't Come Cryin' To Me\",\n",
       " 'Behind The Smile',\n",
       " 'A Lovely Place To Cry']"
      ]
     },
     "execution_count": 70,
     "metadata": {},
     "output_type": "execute_result"
    }
   ],
   "source": [
    "recommendation('Cry No More')"
   ]
  },
  {
   "cell_type": "code",
   "execution_count": 71,
   "id": "18192437",
   "metadata": {},
   "outputs": [],
   "source": [
    "import pickle\n",
    "pickle.dump(similarity,open('similarity.pkl','wb'))\n",
    "pickle.dump(df,open('df.pkl','wb'))"
   ]
  },
  {
   "cell_type": "code",
   "execution_count": null,
   "id": "e7edcf20",
   "metadata": {},
   "outputs": [],
   "source": []
  }
 ],
 "metadata": {
  "kernelspec": {
   "display_name": "Python 3 (ipykernel)",
   "language": "python",
   "name": "python3"
  },
  "language_info": {
   "codemirror_mode": {
    "name": "ipython",
    "version": 3
   },
   "file_extension": ".py",
   "mimetype": "text/x-python",
   "name": "python",
   "nbconvert_exporter": "python",
   "pygments_lexer": "ipython3",
   "version": "3.10.11"
  }
 },
 "nbformat": 4,
 "nbformat_minor": 5
}
